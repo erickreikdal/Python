{
  "nbformat": 4,
  "nbformat_minor": 0,
  "metadata": {
    "colab": {
      "provenance": [],
      "authorship_tag": "ABX9TyMkcQXJoj/M5mRaDlnDqw0Y",
      "include_colab_link": true
    },
    "kernelspec": {
      "name": "python3",
      "display_name": "Python 3"
    },
    "language_info": {
      "name": "python"
    }
  },
  "cells": [
    {
      "cell_type": "markdown",
      "metadata": {
        "id": "view-in-github",
        "colab_type": "text"
      },
      "source": [
        "<a href=\"https://colab.research.google.com/github/erickreikdal/Python/blob/main/Python.ipynb\" target=\"_parent\"><img src=\"https://colab.research.google.com/assets/colab-badge.svg\" alt=\"Open In Colab\"/></a>"
      ]
    },
    {
      "cell_type": "code",
      "source": [
        "teste = \"arquivo criado em python\"\n",
        "\n",
        "print(teste,\", aula em python\")"
      ],
      "metadata": {
        "id": "IQ3Cx0XjkmvU"
      },
      "execution_count": null,
      "outputs": []
    },
    {
      "cell_type": "code",
      "execution_count": 2,
      "metadata": {
        "id": "9OSrBWd_e3HM",
        "outputId": "16bdd4bc-e3e4-4d5a-8d04-3282674c7bf4",
        "colab": {
          "base_uri": "https://localhost:8080/"
        }
      },
      "outputs": [
        {
          "output_type": "stream",
          "name": "stdout",
          "text": [
            "teste do primeiro arquivo em python\n"
          ]
        }
      ],
      "source": [
        "print(\"teste do primeiro arquivo em python\")"
      ]
    }
  ]
}